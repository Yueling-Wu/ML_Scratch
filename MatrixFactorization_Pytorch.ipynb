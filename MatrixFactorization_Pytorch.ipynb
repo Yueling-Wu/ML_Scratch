{
 "cells": [
  {
   "cell_type": "code",
   "execution_count": 1,
   "id": "11d216c2",
   "metadata": {},
   "outputs": [],
   "source": [
    "import numpy as np\n",
    "import pandas as pd\n",
    "from pathlib import Path\n",
    "import torch\n",
    "import torch.nn as nn\n",
    "import torch.nn.functional as F"
   ]
  },
  {
   "cell_type": "markdown",
   "id": "06cb6e1a",
   "metadata": {},
   "source": [
    "The MovieLens dataset (ml-latest-small) describes 5-star rating and free-text tagging activity from MovieLens, a movie recommendation service. It contains 100004 ratings and 1296 tag applications across 9125 movies. https://grouplens.org/datasets/movielens/."
   ]
  },
  {
   "cell_type": "markdown",
   "id": "1ad2578c",
   "metadata": {},
   "source": [
    "# MovieLens Dataset"
   ]
  },
  {
   "cell_type": "code",
   "execution_count": 2,
   "id": "67aab5ad",
   "metadata": {},
   "outputs": [
    {
     "data": {
      "text/plain": [
       "[PosixPath('ml-latest-small/links.csv'),\n",
       " PosixPath('ml-latest-small/tags.csv'),\n",
       " PosixPath('ml-latest-small/ratings.csv'),\n",
       " PosixPath('ml-latest-small/README.txt'),\n",
       " PosixPath('ml-latest-small/movies.csv')]"
      ]
     },
     "execution_count": 2,
     "metadata": {},
     "output_type": "execute_result"
    }
   ],
   "source": [
    "PATH = Path(\"ml-latest-small\")\n",
    "list(PATH.iterdir())"
   ]
  },
  {
   "cell_type": "code",
   "execution_count": 3,
   "id": "6d230c7b",
   "metadata": {},
   "outputs": [
    {
     "data": {
      "text/html": [
       "<div>\n",
       "<style scoped>\n",
       "    .dataframe tbody tr th:only-of-type {\n",
       "        vertical-align: middle;\n",
       "    }\n",
       "\n",
       "    .dataframe tbody tr th {\n",
       "        vertical-align: top;\n",
       "    }\n",
       "\n",
       "    .dataframe thead th {\n",
       "        text-align: right;\n",
       "    }\n",
       "</style>\n",
       "<table border=\"1\" class=\"dataframe\">\n",
       "  <thead>\n",
       "    <tr style=\"text-align: right;\">\n",
       "      <th></th>\n",
       "      <th>userId</th>\n",
       "      <th>movieId</th>\n",
       "      <th>rating</th>\n",
       "      <th>timestamp</th>\n",
       "    </tr>\n",
       "  </thead>\n",
       "  <tbody>\n",
       "    <tr>\n",
       "      <th>0</th>\n",
       "      <td>1</td>\n",
       "      <td>1</td>\n",
       "      <td>4.0</td>\n",
       "      <td>964982703</td>\n",
       "    </tr>\n",
       "    <tr>\n",
       "      <th>1</th>\n",
       "      <td>1</td>\n",
       "      <td>3</td>\n",
       "      <td>4.0</td>\n",
       "      <td>964981247</td>\n",
       "    </tr>\n",
       "    <tr>\n",
       "      <th>2</th>\n",
       "      <td>1</td>\n",
       "      <td>6</td>\n",
       "      <td>4.0</td>\n",
       "      <td>964982224</td>\n",
       "    </tr>\n",
       "    <tr>\n",
       "      <th>3</th>\n",
       "      <td>1</td>\n",
       "      <td>47</td>\n",
       "      <td>5.0</td>\n",
       "      <td>964983815</td>\n",
       "    </tr>\n",
       "    <tr>\n",
       "      <th>4</th>\n",
       "      <td>1</td>\n",
       "      <td>50</td>\n",
       "      <td>5.0</td>\n",
       "      <td>964982931</td>\n",
       "    </tr>\n",
       "  </tbody>\n",
       "</table>\n",
       "</div>"
      ],
      "text/plain": [
       "   userId  movieId  rating  timestamp\n",
       "0       1        1     4.0  964982703\n",
       "1       1        3     4.0  964981247\n",
       "2       1        6     4.0  964982224\n",
       "3       1       47     5.0  964983815\n",
       "4       1       50     5.0  964982931"
      ]
     },
     "execution_count": 3,
     "metadata": {},
     "output_type": "execute_result"
    }
   ],
   "source": [
    "data = pd.read_csv(PATH/\"ratings.csv\")\n",
    "data.head()"
   ]
  },
  {
   "cell_type": "code",
   "execution_count": 4,
   "id": "56876396",
   "metadata": {},
   "outputs": [
    {
     "name": "stdout",
     "output_type": "stream",
     "text": [
      "1458635171.0\n"
     ]
    }
   ],
   "source": [
    "#Split train and validation set\n",
    "cutoff = np.quantile(data.timestamp.values, 0.8)\n",
    "print(cutoff)\n",
    "df_train = data[data.timestamp<cutoff].copy()\n",
    "df_val = data[data.timestamp>=cutoff].copy()"
   ]
  },
  {
   "cell_type": "code",
   "execution_count": 5,
   "id": "c3d83054",
   "metadata": {},
   "outputs": [
    {
     "data": {
      "text/html": [
       "<div>\n",
       "<style scoped>\n",
       "    .dataframe tbody tr th:only-of-type {\n",
       "        vertical-align: middle;\n",
       "    }\n",
       "\n",
       "    .dataframe tbody tr th {\n",
       "        vertical-align: top;\n",
       "    }\n",
       "\n",
       "    .dataframe thead th {\n",
       "        text-align: right;\n",
       "    }\n",
       "</style>\n",
       "<table border=\"1\" class=\"dataframe\">\n",
       "  <thead>\n",
       "    <tr style=\"text-align: right;\">\n",
       "      <th></th>\n",
       "      <th>userId</th>\n",
       "      <th>movieId</th>\n",
       "      <th>rating</th>\n",
       "      <th>timestamp</th>\n",
       "    </tr>\n",
       "  </thead>\n",
       "  <tbody>\n",
       "    <tr>\n",
       "      <th>0</th>\n",
       "      <td>1</td>\n",
       "      <td>1</td>\n",
       "      <td>4.0</td>\n",
       "      <td>964982703</td>\n",
       "    </tr>\n",
       "    <tr>\n",
       "      <th>1</th>\n",
       "      <td>1</td>\n",
       "      <td>3</td>\n",
       "      <td>4.0</td>\n",
       "      <td>964981247</td>\n",
       "    </tr>\n",
       "    <tr>\n",
       "      <th>2</th>\n",
       "      <td>1</td>\n",
       "      <td>6</td>\n",
       "      <td>4.0</td>\n",
       "      <td>964982224</td>\n",
       "    </tr>\n",
       "    <tr>\n",
       "      <th>3</th>\n",
       "      <td>1</td>\n",
       "      <td>47</td>\n",
       "      <td>5.0</td>\n",
       "      <td>964983815</td>\n",
       "    </tr>\n",
       "    <tr>\n",
       "      <th>4</th>\n",
       "      <td>1</td>\n",
       "      <td>50</td>\n",
       "      <td>5.0</td>\n",
       "      <td>964982931</td>\n",
       "    </tr>\n",
       "    <tr>\n",
       "      <th>...</th>\n",
       "      <td>...</td>\n",
       "      <td>...</td>\n",
       "      <td>...</td>\n",
       "      <td>...</td>\n",
       "    </tr>\n",
       "    <tr>\n",
       "      <th>99529</th>\n",
       "      <td>609</td>\n",
       "      <td>892</td>\n",
       "      <td>3.0</td>\n",
       "      <td>847221080</td>\n",
       "    </tr>\n",
       "    <tr>\n",
       "      <th>99530</th>\n",
       "      <td>609</td>\n",
       "      <td>1056</td>\n",
       "      <td>3.0</td>\n",
       "      <td>847221080</td>\n",
       "    </tr>\n",
       "    <tr>\n",
       "      <th>99531</th>\n",
       "      <td>609</td>\n",
       "      <td>1059</td>\n",
       "      <td>3.0</td>\n",
       "      <td>847221054</td>\n",
       "    </tr>\n",
       "    <tr>\n",
       "      <th>99532</th>\n",
       "      <td>609</td>\n",
       "      <td>1150</td>\n",
       "      <td>4.0</td>\n",
       "      <td>847221054</td>\n",
       "    </tr>\n",
       "    <tr>\n",
       "      <th>99533</th>\n",
       "      <td>609</td>\n",
       "      <td>1161</td>\n",
       "      <td>4.0</td>\n",
       "      <td>847221080</td>\n",
       "    </tr>\n",
       "  </tbody>\n",
       "</table>\n",
       "<p>80668 rows × 4 columns</p>\n",
       "</div>"
      ],
      "text/plain": [
       "       userId  movieId  rating  timestamp\n",
       "0           1        1     4.0  964982703\n",
       "1           1        3     4.0  964981247\n",
       "2           1        6     4.0  964982224\n",
       "3           1       47     5.0  964983815\n",
       "4           1       50     5.0  964982931\n",
       "...       ...      ...     ...        ...\n",
       "99529     609      892     3.0  847221080\n",
       "99530     609     1056     3.0  847221080\n",
       "99531     609     1059     3.0  847221054\n",
       "99532     609     1150     4.0  847221054\n",
       "99533     609     1161     4.0  847221080\n",
       "\n",
       "[80668 rows x 4 columns]"
      ]
     },
     "execution_count": 5,
     "metadata": {},
     "output_type": "execute_result"
    }
   ],
   "source": [
    "df_train"
   ]
  },
  {
   "cell_type": "markdown",
   "id": "94b23c7a",
   "metadata": {},
   "source": [
    "# Encode Data"
   ]
  },
  {
   "cell_type": "code",
   "execution_count": 6,
   "id": "c654e165",
   "metadata": {},
   "outputs": [],
   "source": [
    "def proc_col(col):\n",
    "    \"\"\"\n",
    "    Encodes a pandas column with values between 0 and n-1.\n",
    "    where n = number of unique values\n",
    "    \"\"\"\n",
    "    uniq = col.unique()\n",
    "    name2idx = {o:i for i,o in enumerate(uniq)}\n",
    "    return name2idx, np.array([name2idx[x] for x in col]), len(uniq)"
   ]
  },
  {
   "cell_type": "code",
   "execution_count": 7,
   "id": "3f6a30bf",
   "metadata": {},
   "outputs": [],
   "source": [
    "def encode_data(df_train):\n",
    "    \"\"\"\n",
    "    Encodes rating data with continous user and movie ids using \n",
    "    the helpful fast.ai function from above.\n",
    "    \n",
    "    Inputs:\n",
    "      train_csv: a csv file with columns user_id,movie_id,rating \n",
    "    \n",
    "    Returns:\n",
    "      df: a dataframe with the encode data\n",
    "      num_users\n",
    "      num_movies    \n",
    "    \"\"\"\n",
    "    num_users = proc_col(df_train.userId)[2]\n",
    "    num_movies = proc_col(df_train.movieId)[2]\n",
    "\n",
    "    df_train[\"userId\"] = proc_col(df_train.userId)[1]\n",
    "    df_train[\"movieId\"] = proc_col(df_train.movieId)[1]\n",
    "    return df_train, num_users, num_movies"
   ]
  },
  {
   "cell_type": "code",
   "execution_count": 8,
   "id": "c336725d",
   "metadata": {},
   "outputs": [],
   "source": [
    "def encode_valid(df_val, df_train):\n",
    "    \"\"\" \n",
    "    Encodes df_val with the same encoding as df_train.\n",
    "    \n",
    "    Returns:\n",
    "    df_val: dataframe with the same encoding as df_train\n",
    "    \"\"\"\n",
    "    name2idx_user = proc_col(df_train.userId)[0]\n",
    "    name2idx_movie = proc_col(df_train.movieId)[0]\n",
    "\n",
    "    df_val[\"userId\"] = np.array([name2idx_user.get(x,-1) for x in df_val.userId])\n",
    "    df_val[\"movieId\"] = np.array([name2idx_movie.get(x,-1) for x in df_val.movieId])\n",
    "    df_val = df_val[df_val.userId!=-1][df_val.movieId!=-1]\n",
    "    return df_val"
   ]
  },
  {
   "cell_type": "code",
   "execution_count": 9,
   "id": "bc9735df",
   "metadata": {},
   "outputs": [
    {
     "name": "stdout",
     "output_type": "stream",
     "text": [
      "num_users : 522\n",
      "num_movies : 7867\n"
     ]
    },
    {
     "data": {
      "text/html": [
       "<div>\n",
       "<style scoped>\n",
       "    .dataframe tbody tr th:only-of-type {\n",
       "        vertical-align: middle;\n",
       "    }\n",
       "\n",
       "    .dataframe tbody tr th {\n",
       "        vertical-align: top;\n",
       "    }\n",
       "\n",
       "    .dataframe thead th {\n",
       "        text-align: right;\n",
       "    }\n",
       "</style>\n",
       "<table border=\"1\" class=\"dataframe\">\n",
       "  <thead>\n",
       "    <tr style=\"text-align: right;\">\n",
       "      <th></th>\n",
       "      <th>userId</th>\n",
       "      <th>movieId</th>\n",
       "      <th>rating</th>\n",
       "      <th>timestamp</th>\n",
       "    </tr>\n",
       "  </thead>\n",
       "  <tbody>\n",
       "    <tr>\n",
       "      <th>0</th>\n",
       "      <td>0</td>\n",
       "      <td>0</td>\n",
       "      <td>4.0</td>\n",
       "      <td>964982703</td>\n",
       "    </tr>\n",
       "    <tr>\n",
       "      <th>1</th>\n",
       "      <td>0</td>\n",
       "      <td>1</td>\n",
       "      <td>4.0</td>\n",
       "      <td>964981247</td>\n",
       "    </tr>\n",
       "    <tr>\n",
       "      <th>2</th>\n",
       "      <td>0</td>\n",
       "      <td>2</td>\n",
       "      <td>4.0</td>\n",
       "      <td>964982224</td>\n",
       "    </tr>\n",
       "    <tr>\n",
       "      <th>3</th>\n",
       "      <td>0</td>\n",
       "      <td>3</td>\n",
       "      <td>5.0</td>\n",
       "      <td>964983815</td>\n",
       "    </tr>\n",
       "    <tr>\n",
       "      <th>4</th>\n",
       "      <td>0</td>\n",
       "      <td>4</td>\n",
       "      <td>5.0</td>\n",
       "      <td>964982931</td>\n",
       "    </tr>\n",
       "    <tr>\n",
       "      <th>...</th>\n",
       "      <td>...</td>\n",
       "      <td>...</td>\n",
       "      <td>...</td>\n",
       "      <td>...</td>\n",
       "    </tr>\n",
       "    <tr>\n",
       "      <th>99529</th>\n",
       "      <td>521</td>\n",
       "      <td>328</td>\n",
       "      <td>3.0</td>\n",
       "      <td>847221080</td>\n",
       "    </tr>\n",
       "    <tr>\n",
       "      <th>99530</th>\n",
       "      <td>521</td>\n",
       "      <td>2314</td>\n",
       "      <td>3.0</td>\n",
       "      <td>847221080</td>\n",
       "    </tr>\n",
       "    <tr>\n",
       "      <th>99531</th>\n",
       "      <td>521</td>\n",
       "      <td>1103</td>\n",
       "      <td>3.0</td>\n",
       "      <td>847221054</td>\n",
       "    </tr>\n",
       "    <tr>\n",
       "      <th>99532</th>\n",
       "      <td>521</td>\n",
       "      <td>6257</td>\n",
       "      <td>4.0</td>\n",
       "      <td>847221054</td>\n",
       "    </tr>\n",
       "    <tr>\n",
       "      <th>99533</th>\n",
       "      <td>521</td>\n",
       "      <td>6122</td>\n",
       "      <td>4.0</td>\n",
       "      <td>847221080</td>\n",
       "    </tr>\n",
       "  </tbody>\n",
       "</table>\n",
       "<p>80668 rows × 4 columns</p>\n",
       "</div>"
      ],
      "text/plain": [
       "       userId  movieId  rating  timestamp\n",
       "0           0        0     4.0  964982703\n",
       "1           0        1     4.0  964981247\n",
       "2           0        2     4.0  964982224\n",
       "3           0        3     5.0  964983815\n",
       "4           0        4     5.0  964982931\n",
       "...       ...      ...     ...        ...\n",
       "99529     521      328     3.0  847221080\n",
       "99530     521     2314     3.0  847221080\n",
       "99531     521     1103     3.0  847221054\n",
       "99532     521     6257     4.0  847221054\n",
       "99533     521     6122     4.0  847221080\n",
       "\n",
       "[80668 rows x 4 columns]"
      ]
     },
     "execution_count": 9,
     "metadata": {},
     "output_type": "execute_result"
    }
   ],
   "source": [
    "df, num_users, num_movies = encode_data(df_train)\n",
    "print(f'num_users : {num_users}')\n",
    "print(f'num_movies : {num_movies}')\n",
    "df"
   ]
  },
  {
   "cell_type": "code",
   "execution_count": 10,
   "id": "7e774e31",
   "metadata": {},
   "outputs": [
    {
     "name": "stderr",
     "output_type": "stream",
     "text": [
      "<ipython-input-8-7231d4eda20c>:13: UserWarning: Boolean Series key will be reindexed to match DataFrame index.\n",
      "  df_val = df_val[df_val.userId!=-1][df_val.movieId!=-1]\n"
     ]
    },
    {
     "data": {
      "text/html": [
       "<div>\n",
       "<style scoped>\n",
       "    .dataframe tbody tr th:only-of-type {\n",
       "        vertical-align: middle;\n",
       "    }\n",
       "\n",
       "    .dataframe tbody tr th {\n",
       "        vertical-align: top;\n",
       "    }\n",
       "\n",
       "    .dataframe thead th {\n",
       "        text-align: right;\n",
       "    }\n",
       "</style>\n",
       "<table border=\"1\" class=\"dataframe\">\n",
       "  <thead>\n",
       "    <tr style=\"text-align: right;\">\n",
       "      <th></th>\n",
       "      <th>userId</th>\n",
       "      <th>movieId</th>\n",
       "      <th>rating</th>\n",
       "      <th>timestamp</th>\n",
       "    </tr>\n",
       "  </thead>\n",
       "  <tbody>\n",
       "    <tr>\n",
       "      <th>1434</th>\n",
       "      <td>15</td>\n",
       "      <td>1</td>\n",
       "      <td>2.5</td>\n",
       "      <td>1510577970</td>\n",
       "    </tr>\n",
       "    <tr>\n",
       "      <th>1436</th>\n",
       "      <td>15</td>\n",
       "      <td>47</td>\n",
       "      <td>3.5</td>\n",
       "      <td>1510571970</td>\n",
       "    </tr>\n",
       "    <tr>\n",
       "      <th>1440</th>\n",
       "      <td>15</td>\n",
       "      <td>260</td>\n",
       "      <td>5.0</td>\n",
       "      <td>1510571946</td>\n",
       "    </tr>\n",
       "    <tr>\n",
       "      <th>1441</th>\n",
       "      <td>15</td>\n",
       "      <td>293</td>\n",
       "      <td>3.0</td>\n",
       "      <td>1510571962</td>\n",
       "    </tr>\n",
       "    <tr>\n",
       "      <th>1442</th>\n",
       "      <td>15</td>\n",
       "      <td>296</td>\n",
       "      <td>4.0</td>\n",
       "      <td>1510571877</td>\n",
       "    </tr>\n",
       "    <tr>\n",
       "      <th>...</th>\n",
       "      <td>...</td>\n",
       "      <td>...</td>\n",
       "      <td>...</td>\n",
       "      <td>...</td>\n",
       "    </tr>\n",
       "    <tr>\n",
       "      <th>81964</th>\n",
       "      <td>519</td>\n",
       "      <td>4447</td>\n",
       "      <td>3.5</td>\n",
       "      <td>1518478841</td>\n",
       "    </tr>\n",
       "    <tr>\n",
       "      <th>81965</th>\n",
       "      <td>519</td>\n",
       "      <td>4963</td>\n",
       "      <td>4.0</td>\n",
       "      <td>1518478565</td>\n",
       "    </tr>\n",
       "    <tr>\n",
       "      <th>81966</th>\n",
       "      <td>519</td>\n",
       "      <td>5989</td>\n",
       "      <td>4.0</td>\n",
       "      <td>1518379967</td>\n",
       "    </tr>\n",
       "    <tr>\n",
       "      <th>81967</th>\n",
       "      <td>519</td>\n",
       "      <td>6378</td>\n",
       "      <td>4.0</td>\n",
       "      <td>1518478826</td>\n",
       "    </tr>\n",
       "    <tr>\n",
       "      <th>81968</th>\n",
       "      <td>519</td>\n",
       "      <td>7445</td>\n",
       "      <td>5.0</td>\n",
       "      <td>1522552514</td>\n",
       "    </tr>\n",
       "  </tbody>\n",
       "</table>\n",
       "<p>5477 rows × 4 columns</p>\n",
       "</div>"
      ],
      "text/plain": [
       "       userId  movieId  rating   timestamp\n",
       "1434       15        1     2.5  1510577970\n",
       "1436       15       47     3.5  1510571970\n",
       "1440       15      260     5.0  1510571946\n",
       "1441       15      293     3.0  1510571962\n",
       "1442       15      296     4.0  1510571877\n",
       "...       ...      ...     ...         ...\n",
       "81964     519     4447     3.5  1518478841\n",
       "81965     519     4963     4.0  1518478565\n",
       "81966     519     5989     4.0  1518379967\n",
       "81967     519     6378     4.0  1518478826\n",
       "81968     519     7445     5.0  1522552514\n",
       "\n",
       "[5477 rows x 4 columns]"
      ]
     },
     "execution_count": 10,
     "metadata": {},
     "output_type": "execute_result"
    }
   ],
   "source": [
    "df_val = encode_valid(df_val, df_train)\n",
    "df_val"
   ]
  },
  {
   "cell_type": "markdown",
   "id": "91f4c97a",
   "metadata": {},
   "source": [
    "# Embedding Layers"
   ]
  },
  {
   "cell_type": "code",
   "execution_count": 11,
   "id": "ba32729c",
   "metadata": {},
   "outputs": [
    {
     "name": "stdout",
     "output_type": "stream",
     "text": [
      "Parameter containing:\n",
      "tensor([[ 0.4284,  1.5713,  1.4015,  0.4404, -0.7480],\n",
      "        [-0.2484,  0.0766,  0.3217, -1.1611,  0.9414],\n",
      "        [-1.4290,  0.1911, -0.9322, -0.2163, -0.1046],\n",
      "        ...,\n",
      "        [-0.8933, -0.1744, -0.5780,  0.8272, -1.1731],\n",
      "        [ 0.0166,  0.6908,  0.7352,  0.3467,  0.2442],\n",
      "        [-1.3345,  0.4457,  0.9240, -0.8816,  0.9973]], requires_grad=True)\n",
      "Parameter containing:\n",
      "tensor([[-2.0865,  0.3503,  0.5092,  0.5147,  0.5890],\n",
      "        [-0.2526,  0.0429, -0.9205, -0.5692,  0.9632],\n",
      "        [-1.3464, -0.6203,  0.3141,  1.7333, -0.2812],\n",
      "        ...,\n",
      "        [-0.3597,  0.8787,  2.0811, -0.0090,  1.2414],\n",
      "        [ 0.4437, -0.7448, -0.9028, -0.1094,  2.4766],\n",
      "        [-0.4268,  1.8368, -0.9168, -0.7838, -1.5734]], requires_grad=True)\n"
     ]
    }
   ],
   "source": [
    "K = 5\n",
    "emb_user = nn.Embedding(num_users, K)\n",
    "print(emb_user.weight)\n",
    "emb_movie = nn.Embedding(num_movies, K)\n",
    "print(emb_movie.weight)"
   ]
  },
  {
   "cell_type": "markdown",
   "id": "5babf497",
   "metadata": {},
   "source": [
    "# ML Model"
   ]
  },
  {
   "cell_type": "code",
   "execution_count": 12,
   "id": "16fd7a8e",
   "metadata": {},
   "outputs": [],
   "source": [
    "class MF(nn.Module):\n",
    "    def __init__(self, num_users, num_items, emb_size=100):\n",
    "        super(MF, self).__init__()\n",
    "        self.user_emb = nn.Embedding(num_users, emb_size)\n",
    "        self.item_emb = nn.Embedding(num_items, emb_size)\n",
    "        # initlializing weights\n",
    "        self.user_emb.weight.data.uniform_(0,0.5)\n",
    "        self.item_emb.weight.data.uniform_(0,0.5)\n",
    "        \n",
    "    def forward(self, u, v):\n",
    "        u = self.user_emb(u)\n",
    "        v = self.item_emb(v)\n",
    "        return (u*v).sum(1)   "
   ]
  },
  {
   "cell_type": "code",
   "execution_count": 13,
   "id": "5ee62c6c",
   "metadata": {},
   "outputs": [
    {
     "data": {
      "text/plain": [
       "MF(\n",
       "  (user_emb): Embedding(522, 100)\n",
       "  (item_emb): Embedding(7867, 100)\n",
       ")"
      ]
     },
     "execution_count": 13,
     "metadata": {},
     "output_type": "execute_result"
    }
   ],
   "source": [
    "model = MF(num_users, num_movies, emb_size=100) \n",
    "model"
   ]
  },
  {
   "cell_type": "markdown",
   "id": "4392995b",
   "metadata": {},
   "source": [
    "# Train Model"
   ]
  },
  {
   "cell_type": "code",
   "execution_count": 14,
   "id": "140da856",
   "metadata": {},
   "outputs": [],
   "source": [
    "def train_epocs(model, df_train, df_val, epochs=10, lr=0.01, wd=0.0):\n",
    "    optimizer = torch.optim.Adam(model.parameters(), lr=lr, weight_decay=wd)\n",
    "    for i in range(epochs):\n",
    "        model.train()\n",
    "        users = torch.LongTensor(df_train.userId.values) \n",
    "        items = torch.LongTensor(df_train.movieId.values)\n",
    "        ratings = torch.FloatTensor(df_train.rating.values)\n",
    "    \n",
    "        y_hat = model(users, items)\n",
    "        loss = F.mse_loss(y_hat, ratings)\n",
    "        optimizer.zero_grad()\n",
    "        loss.backward()\n",
    "        optimizer.step()\n",
    "        testloss = valid_loss(model,df_val)\n",
    "        print(\"train loss %.3f valid loss %.3f\" % (loss.item(), testloss)) "
   ]
  },
  {
   "cell_type": "code",
   "execution_count": 15,
   "id": "1382ee10",
   "metadata": {},
   "outputs": [],
   "source": [
    "def valid_loss(model,df_val):\n",
    "    model.eval()\n",
    "    users = torch.LongTensor(df_val.userId.values) \n",
    "    items = torch.LongTensor(df_val.movieId.values) \n",
    "    ratings = torch.FloatTensor(df_val.rating.values) \n",
    "    y_hat = model(users, items)\n",
    "    loss = F.mse_loss(y_hat, ratings)\n",
    "    return loss.item()"
   ]
  },
  {
   "cell_type": "code",
   "execution_count": 16,
   "id": "de91930a",
   "metadata": {},
   "outputs": [
    {
     "name": "stdout",
     "output_type": "stream",
     "text": [
      "train loss 8.627 valid loss 8.110\n",
      "train loss 8.360 valid loss 7.854\n",
      "train loss 8.099 valid loss 7.605\n",
      "train loss 7.845 valid loss 7.362\n",
      "train loss 7.597 valid loss 7.125\n",
      "train loss 7.355 valid loss 6.894\n",
      "train loss 7.119 valid loss 6.670\n",
      "train loss 6.890 valid loss 6.452\n",
      "train loss 6.667 valid loss 6.240\n",
      "train loss 6.450 valid loss 6.035\n",
      "train loss 6.239 valid loss 5.835\n",
      "train loss 6.035 valid loss 5.642\n",
      "train loss 5.836 valid loss 5.455\n",
      "train loss 5.644 valid loss 5.274\n",
      "train loss 5.458 valid loss 5.099\n",
      "train loss 5.277 valid loss 4.930\n",
      "train loss 5.103 valid loss 4.767\n",
      "train loss 4.934 valid loss 4.609\n",
      "train loss 4.771 valid loss 4.457\n",
      "train loss 4.614 valid loss 4.311\n"
     ]
    }
   ],
   "source": [
    "train_epocs(model, df_train, df_val, epochs=20, lr=0.001, wd=1e-5)"
   ]
  }
 ],
 "metadata": {
  "kernelspec": {
   "display_name": "Python 3",
   "language": "python",
   "name": "python3"
  },
  "language_info": {
   "codemirror_mode": {
    "name": "ipython",
    "version": 3
   },
   "file_extension": ".py",
   "mimetype": "text/x-python",
   "name": "python",
   "nbconvert_exporter": "python",
   "pygments_lexer": "ipython3",
   "version": "3.8.8"
  }
 },
 "nbformat": 4,
 "nbformat_minor": 5
}
