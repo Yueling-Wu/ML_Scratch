{
 "cells": [
  {
   "cell_type": "code",
   "execution_count": 1,
   "id": "aadc6208",
   "metadata": {},
   "outputs": [],
   "source": [
    "import numpy as np\n",
    "import pandas as pd\n",
    "from pathlib import Path\n",
    "from scipy import sparse"
   ]
  },
  {
   "cell_type": "markdown",
   "id": "2bac6128",
   "metadata": {},
   "source": [
    "The MovieLens dataset (ml-latest-small) describes 5-star rating and free-text tagging activity from MovieLens, a movie recommendation service. It contains 100004 ratings and 1296 tag applications across 9125 movies. https://grouplens.org/datasets/movielens/."
   ]
  },
  {
   "cell_type": "markdown",
   "id": "f0128d23",
   "metadata": {},
   "source": [
    "# MovieLens Dataset"
   ]
  },
  {
   "cell_type": "code",
   "execution_count": 2,
   "id": "b7130c01",
   "metadata": {},
   "outputs": [
    {
     "data": {
      "text/plain": [
       "[PosixPath('ml-latest-small/links.csv'),\n",
       " PosixPath('ml-latest-small/tags.csv'),\n",
       " PosixPath('ml-latest-small/ratings.csv'),\n",
       " PosixPath('ml-latest-small/README.txt'),\n",
       " PosixPath('ml-latest-small/movies.csv')]"
      ]
     },
     "execution_count": 2,
     "metadata": {},
     "output_type": "execute_result"
    }
   ],
   "source": [
    "PATH = Path(\"ml-latest-small\")\n",
    "list(PATH.iterdir())"
   ]
  },
  {
   "cell_type": "code",
   "execution_count": 3,
   "id": "692e7298",
   "metadata": {},
   "outputs": [
    {
     "data": {
      "text/html": [
       "<div>\n",
       "<style scoped>\n",
       "    .dataframe tbody tr th:only-of-type {\n",
       "        vertical-align: middle;\n",
       "    }\n",
       "\n",
       "    .dataframe tbody tr th {\n",
       "        vertical-align: top;\n",
       "    }\n",
       "\n",
       "    .dataframe thead th {\n",
       "        text-align: right;\n",
       "    }\n",
       "</style>\n",
       "<table border=\"1\" class=\"dataframe\">\n",
       "  <thead>\n",
       "    <tr style=\"text-align: right;\">\n",
       "      <th></th>\n",
       "      <th>userId</th>\n",
       "      <th>movieId</th>\n",
       "      <th>rating</th>\n",
       "      <th>timestamp</th>\n",
       "    </tr>\n",
       "  </thead>\n",
       "  <tbody>\n",
       "    <tr>\n",
       "      <th>0</th>\n",
       "      <td>1</td>\n",
       "      <td>1</td>\n",
       "      <td>4.0</td>\n",
       "      <td>964982703</td>\n",
       "    </tr>\n",
       "    <tr>\n",
       "      <th>1</th>\n",
       "      <td>1</td>\n",
       "      <td>3</td>\n",
       "      <td>4.0</td>\n",
       "      <td>964981247</td>\n",
       "    </tr>\n",
       "    <tr>\n",
       "      <th>2</th>\n",
       "      <td>1</td>\n",
       "      <td>6</td>\n",
       "      <td>4.0</td>\n",
       "      <td>964982224</td>\n",
       "    </tr>\n",
       "    <tr>\n",
       "      <th>3</th>\n",
       "      <td>1</td>\n",
       "      <td>47</td>\n",
       "      <td>5.0</td>\n",
       "      <td>964983815</td>\n",
       "    </tr>\n",
       "    <tr>\n",
       "      <th>4</th>\n",
       "      <td>1</td>\n",
       "      <td>50</td>\n",
       "      <td>5.0</td>\n",
       "      <td>964982931</td>\n",
       "    </tr>\n",
       "  </tbody>\n",
       "</table>\n",
       "</div>"
      ],
      "text/plain": [
       "   userId  movieId  rating  timestamp\n",
       "0       1        1     4.0  964982703\n",
       "1       1        3     4.0  964981247\n",
       "2       1        6     4.0  964982224\n",
       "3       1       47     5.0  964983815\n",
       "4       1       50     5.0  964982931"
      ]
     },
     "execution_count": 3,
     "metadata": {},
     "output_type": "execute_result"
    }
   ],
   "source": [
    "df = pd.read_csv(PATH/\"ratings.csv\")\n",
    "df.head()"
   ]
  },
  {
   "cell_type": "markdown",
   "id": "12462ceb",
   "metadata": {},
   "source": [
    "# Encode Data"
   ]
  },
  {
   "cell_type": "code",
   "execution_count": 4,
   "id": "de8df846",
   "metadata": {},
   "outputs": [],
   "source": [
    "def proc_col(col):\n",
    "    \"\"\"\n",
    "    Encodes a pandas column with values between 0 and n-1.\n",
    "    where n = number of unique values\n",
    "    \"\"\"\n",
    "    uniq = col.unique()\n",
    "    name2idx = {o:i for i,o in enumerate(uniq)}\n",
    "    return name2idx, np.array([name2idx[x] for x in col]), len(uniq)"
   ]
  },
  {
   "cell_type": "code",
   "execution_count": 5,
   "id": "fd58a55e",
   "metadata": {},
   "outputs": [],
   "source": [
    "def encode_data(df_train):\n",
    "    \"\"\"\n",
    "    Encodes rating data with continous user and movie ids using \n",
    "    the helpful fast.ai function from above.\n",
    "    \n",
    "    Inputs:\n",
    "      train_csv: a csv file with columns user_id,movie_id,rating \n",
    "    \n",
    "    Returns:\n",
    "      df: a dataframe with the encode data\n",
    "      num_users\n",
    "      num_movies    \n",
    "    \"\"\"\n",
    "    num_users = proc_col(df_train.userId)[2]\n",
    "    num_movies = proc_col(df_train.movieId)[2]\n",
    "\n",
    "    df_train[\"userId\"] = proc_col(df_train.userId)[1]\n",
    "    df_train[\"movieId\"] = proc_col(df_train.movieId)[1]\n",
    "    return df_train, num_users, num_movies"
   ]
  },
  {
   "cell_type": "code",
   "execution_count": 6,
   "id": "3f658577",
   "metadata": {},
   "outputs": [
    {
     "name": "stdout",
     "output_type": "stream",
     "text": [
      "num_users : 610\n",
      "num_movies : 9724\n"
     ]
    },
    {
     "data": {
      "text/html": [
       "<div>\n",
       "<style scoped>\n",
       "    .dataframe tbody tr th:only-of-type {\n",
       "        vertical-align: middle;\n",
       "    }\n",
       "\n",
       "    .dataframe tbody tr th {\n",
       "        vertical-align: top;\n",
       "    }\n",
       "\n",
       "    .dataframe thead th {\n",
       "        text-align: right;\n",
       "    }\n",
       "</style>\n",
       "<table border=\"1\" class=\"dataframe\">\n",
       "  <thead>\n",
       "    <tr style=\"text-align: right;\">\n",
       "      <th></th>\n",
       "      <th>userId</th>\n",
       "      <th>movieId</th>\n",
       "      <th>rating</th>\n",
       "      <th>timestamp</th>\n",
       "    </tr>\n",
       "  </thead>\n",
       "  <tbody>\n",
       "    <tr>\n",
       "      <th>0</th>\n",
       "      <td>0</td>\n",
       "      <td>0</td>\n",
       "      <td>4.0</td>\n",
       "      <td>964982703</td>\n",
       "    </tr>\n",
       "    <tr>\n",
       "      <th>1</th>\n",
       "      <td>0</td>\n",
       "      <td>1</td>\n",
       "      <td>4.0</td>\n",
       "      <td>964981247</td>\n",
       "    </tr>\n",
       "    <tr>\n",
       "      <th>2</th>\n",
       "      <td>0</td>\n",
       "      <td>2</td>\n",
       "      <td>4.0</td>\n",
       "      <td>964982224</td>\n",
       "    </tr>\n",
       "    <tr>\n",
       "      <th>3</th>\n",
       "      <td>0</td>\n",
       "      <td>3</td>\n",
       "      <td>5.0</td>\n",
       "      <td>964983815</td>\n",
       "    </tr>\n",
       "    <tr>\n",
       "      <th>4</th>\n",
       "      <td>0</td>\n",
       "      <td>4</td>\n",
       "      <td>5.0</td>\n",
       "      <td>964982931</td>\n",
       "    </tr>\n",
       "    <tr>\n",
       "      <th>...</th>\n",
       "      <td>...</td>\n",
       "      <td>...</td>\n",
       "      <td>...</td>\n",
       "      <td>...</td>\n",
       "    </tr>\n",
       "    <tr>\n",
       "      <th>100831</th>\n",
       "      <td>609</td>\n",
       "      <td>3120</td>\n",
       "      <td>4.0</td>\n",
       "      <td>1493848402</td>\n",
       "    </tr>\n",
       "    <tr>\n",
       "      <th>100832</th>\n",
       "      <td>609</td>\n",
       "      <td>2035</td>\n",
       "      <td>5.0</td>\n",
       "      <td>1493850091</td>\n",
       "    </tr>\n",
       "    <tr>\n",
       "      <th>100833</th>\n",
       "      <td>609</td>\n",
       "      <td>3121</td>\n",
       "      <td>5.0</td>\n",
       "      <td>1494273047</td>\n",
       "    </tr>\n",
       "    <tr>\n",
       "      <th>100834</th>\n",
       "      <td>609</td>\n",
       "      <td>1392</td>\n",
       "      <td>5.0</td>\n",
       "      <td>1493846352</td>\n",
       "    </tr>\n",
       "    <tr>\n",
       "      <th>100835</th>\n",
       "      <td>609</td>\n",
       "      <td>2873</td>\n",
       "      <td>3.0</td>\n",
       "      <td>1493846415</td>\n",
       "    </tr>\n",
       "  </tbody>\n",
       "</table>\n",
       "<p>100836 rows × 4 columns</p>\n",
       "</div>"
      ],
      "text/plain": [
       "        userId  movieId  rating   timestamp\n",
       "0            0        0     4.0   964982703\n",
       "1            0        1     4.0   964981247\n",
       "2            0        2     4.0   964982224\n",
       "3            0        3     5.0   964983815\n",
       "4            0        4     5.0   964982931\n",
       "...        ...      ...     ...         ...\n",
       "100831     609     3120     4.0  1493848402\n",
       "100832     609     2035     5.0  1493850091\n",
       "100833     609     3121     5.0  1494273047\n",
       "100834     609     1392     5.0  1493846352\n",
       "100835     609     2873     3.0  1493846415\n",
       "\n",
       "[100836 rows x 4 columns]"
      ]
     },
     "execution_count": 6,
     "metadata": {},
     "output_type": "execute_result"
    }
   ],
   "source": [
    "df, num_users, num_movies = encode_data(df)\n",
    "print(f'num_users : {num_users}')\n",
    "print(f'num_movies : {num_movies}')\n",
    "df"
   ]
  },
  {
   "cell_type": "code",
   "execution_count": 7,
   "id": "1a760581",
   "metadata": {},
   "outputs": [],
   "source": [
    "def encode_valid(df_val, df_train):\n",
    "    \"\"\" \n",
    "    Encodes df_val with the same encoding as df_train.\n",
    "    \n",
    "    Returns:\n",
    "    df_val: dataframe with the same encoding as df_train\n",
    "    \"\"\"\n",
    "    name2idx_user = proc_col(df_train.userId)[0]\n",
    "    name2idx_movie = proc_col(df_train.movieId)[0]\n",
    "\n",
    "    df_val[\"userId\"] = np.array([name2idx_user.get(x,-1) for x in df_val.userId])\n",
    "    df_val[\"movieId\"] = np.array([name2idx_movie.get(x,-1) for x in df_val.movieId])\n",
    "    df_val = df_val[df_val.userId!=-1][df_val.movieId!=-1]\n",
    "    return df_val"
   ]
  },
  {
   "cell_type": "markdown",
   "id": "27479102",
   "metadata": {},
   "source": [
    "# Create Embeddings"
   ]
  },
  {
   "cell_type": "code",
   "execution_count": 8,
   "id": "d73e65fa",
   "metadata": {},
   "outputs": [],
   "source": [
    "def create_embedings(n, K):\n",
    "    \"\"\" \n",
    "    Create a numpy random matrix of shape n, K\n",
    "    The random matrix is initialized with uniform values in (0, 6/K)\n",
    "    \n",
    "    Inputs:\n",
    "    n: number of items/users\n",
    "    K: number of factors in the embeding \n",
    "    \n",
    "    Returns:\n",
    "    emb: numpy array of shape (n, num_factors)\n",
    "    \"\"\"\n",
    "    np.random.seed(3)\n",
    "    emb = 6*np.random.random((n, K)) / K\n",
    "    return emb"
   ]
  },
  {
   "cell_type": "code",
   "execution_count": 9,
   "id": "b0ea8c58",
   "metadata": {},
   "outputs": [
    {
     "name": "stdout",
     "output_type": "stream",
     "text": [
      "[[0.66095748 0.84977739 0.34908569 0.61299313 1.07153635]\n",
      " [1.07555171 0.15070237 0.24869145 0.06176064 0.52897181]\n",
      " [0.03585145 0.54819987 0.77897286 0.33418474 0.81150588]\n",
      " ...\n",
      " [0.94263609 0.84922124 0.60350821 0.80325799 0.30124549]\n",
      " [0.00896068 0.26912132 0.36652313 0.23476005 0.32429156]\n",
      " [0.80063981 0.30614346 0.36021625 1.17441335 0.18542009]]\n"
     ]
    }
   ],
   "source": [
    "K = 5\n",
    "emb_user = create_embedings(num_users,K)\n",
    "emb_movie = create_embedings(num_movies,K)\n",
    "print(emb_user)"
   ]
  },
  {
   "cell_type": "markdown",
   "id": "e75a72ea",
   "metadata": {},
   "source": [
    "# Utility Matrix"
   ]
  },
  {
   "cell_type": "code",
   "execution_count": 10,
   "id": "a550588e",
   "metadata": {},
   "outputs": [],
   "source": [
    "def df2matrix(df, nrows, ncols, column_name=\"rating\"):\n",
    "    \"\"\" \n",
    "    Returns a sparse matrix constructed from a dataframe\n",
    "    This code assumes the df has columns: MovieID,UserID,Rating\n",
    "    \"\"\"\n",
    "    values = df[column_name].values\n",
    "    ind_movie = df['movieId'].values\n",
    "    ind_user = df['userId'].values\n",
    "    return sparse.csc_matrix((values,(ind_user, ind_movie)),shape=(nrows, ncols))"
   ]
  },
  {
   "cell_type": "code",
   "execution_count": 11,
   "id": "9e652bb3",
   "metadata": {},
   "outputs": [
    {
     "name": "stdout",
     "output_type": "stream",
     "text": [
      "  (0, 0)\t4.0\n",
      "  (4, 0)\t4.0\n",
      "  (6, 0)\t4.5\n",
      "  (14, 0)\t2.5\n",
      "  (16, 0)\t4.5\n",
      "  (17, 0)\t3.5\n",
      "  (18, 0)\t4.0\n",
      "  (20, 0)\t3.5\n",
      "  (26, 0)\t3.0\n",
      "  (30, 0)\t5.0\n",
      "  (31, 0)\t3.0\n",
      "  (32, 0)\t3.0\n",
      "  (39, 0)\t5.0\n",
      "  (42, 0)\t5.0\n",
      "  (43, 0)\t3.0\n",
      "  (44, 0)\t4.0\n",
      "  (45, 0)\t5.0\n",
      "  (49, 0)\t3.0\n",
      "  (53, 0)\t3.0\n",
      "  (56, 0)\t5.0\n",
      "  (62, 0)\t5.0\n",
      "  (63, 0)\t4.0\n",
      "  (65, 0)\t4.0\n",
      "  (67, 0)\t2.5\n",
      "  (70, 0)\t5.0\n",
      "  :\t:\n",
      "  (609, 9699)\t3.5\n",
      "  (609, 9700)\t3.5\n",
      "  (609, 9701)\t4.0\n",
      "  (609, 9702)\t1.5\n",
      "  (609, 9703)\t5.0\n",
      "  (609, 9704)\t3.0\n",
      "  (609, 9705)\t3.0\n",
      "  (609, 9706)\t4.0\n",
      "  (609, 9707)\t4.0\n",
      "  (609, 9708)\t3.5\n",
      "  (609, 9709)\t3.0\n",
      "  (609, 9710)\t4.0\n",
      "  (609, 9711)\t0.5\n",
      "  (609, 9712)\t4.0\n",
      "  (609, 9713)\t4.0\n",
      "  (609, 9714)\t3.0\n",
      "  (609, 9715)\t3.5\n",
      "  (609, 9716)\t3.5\n",
      "  (609, 9717)\t3.5\n",
      "  (609, 9718)\t3.5\n",
      "  (609, 9719)\t2.5\n",
      "  (609, 9720)\t4.5\n",
      "  (609, 9721)\t3.0\n",
      "  (609, 9722)\t3.5\n",
      "  (609, 9723)\t3.5\n"
     ]
    }
   ],
   "source": [
    "Y = df2matrix(df, num_users, num_movies)\n",
    "print(Y) "
   ]
  },
  {
   "cell_type": "markdown",
   "id": "49589a39",
   "metadata": {},
   "source": [
    "# Loss Function MSE"
   ]
  },
  {
   "cell_type": "code",
   "execution_count": 12,
   "id": "3517bb7c",
   "metadata": {},
   "outputs": [],
   "source": [
    "def cost(df, emb_user, emb_movie):\n",
    "    \"\"\" \n",
    "    Computes mean square error\n",
    "    \n",
    "    First compute prediction. Prediction for user i and movie j is emb_user[i]*emb_movie[j]\n",
    "    \n",
    "    Inputs:\n",
    "      df: dataframe with all data or a subset of the data\n",
    "      emb_user: embedings for users\n",
    "      emb_movie: embedings for movies\n",
    "      \n",
    "    Returns:\n",
    "      error(float): MSE\n",
    "    \"\"\"\n",
    "    pred = np.sum(emb_user[df[\"userId\"].values]*emb_movie[df[\"movieId\"].values], axis=1)\n",
    "    error = ((df['rating'] - pred)**2).mean()\n",
    "    return error"
   ]
  },
  {
   "cell_type": "code",
   "execution_count": 13,
   "id": "dbcdc0f4",
   "metadata": {},
   "outputs": [
    {
     "data": {
      "text/plain": [
       "4.4458561622796235"
      ]
     },
     "execution_count": 13,
     "metadata": {},
     "output_type": "execute_result"
    }
   ],
   "source": [
    "error = cost(df, emb_user, emb_movie)\n",
    "error"
   ]
  },
  {
   "cell_type": "markdown",
   "id": "e65016d9",
   "metadata": {},
   "source": [
    "# Gradient descent with momentum"
   ]
  },
  {
   "cell_type": "code",
   "execution_count": 14,
   "id": "f0a0a2df",
   "metadata": {},
   "outputs": [],
   "source": [
    "def sparse_multiply(df, emb_user, emb_movie):\n",
    "    \"\"\" \n",
    "    This function returns U*V^T element wise multi by R as a sparse matrix.\n",
    "    It avoids creating the dense matrix U*V^T\n",
    "    \"\"\"\n",
    "    \n",
    "    df[\"Prediction\"] = np.sum(emb_user[df[\"userId\"].values]*emb_movie[df[\"movieId\"].values], axis=1)\n",
    "    return df2matrix(df, emb_user.shape[0], emb_movie.shape[0], column_name=\"Prediction\")\n",
    "\n",
    "\n",
    "def gradient(df, Y, emb_user, emb_movie):\n",
    "    \"\"\" \n",
    "    Computes the gradient.\n",
    "\n",
    "    First compute prediction. Prediction for user i and movie j is emb_user[i]*emb_movie[j]\n",
    "    \n",
    "    Inputs:\n",
    "      df: dataframe with all data or a subset of the data\n",
    "      Y: sparse representation of df\n",
    "      emb_user: embedings for users\n",
    "      emb_movie: embedings for movies\n",
    "      \n",
    "    Returns:\n",
    "      d_emb_user\n",
    "      d_emb_movie\n",
    "    \"\"\"\n",
    "    val_one = np.ones(df['rating'].values.shape)\n",
    "    ind_movie = df['movieId'].values\n",
    "    ind_user = df['userId'].values\n",
    "    R = sparse.csc_matrix((val_one,(ind_user, ind_movie)),shape=(emb_user.shape[0], emb_movie.shape[0]))    \n",
    "    \n",
    "    N = Y.size\n",
    "    Y_pred=sparse_multiply(df, emb_user, emb_movie)\n",
    "\n",
    "    grad_user = -(2/N)*((Y-Y_pred).multiply(R).dot(emb_movie))\n",
    "    grad_movie = -(2/N)*(((Y-Y_pred).multiply(R).T).dot(emb_user))\n",
    "    return grad_user, grad_movie"
   ]
  },
  {
   "cell_type": "code",
   "execution_count": 15,
   "id": "bb57d37e",
   "metadata": {},
   "outputs": [
    {
     "name": "stdout",
     "output_type": "stream",
     "text": [
      "grad_user: [[-0.00600309 -0.00548105 -0.00619114 -0.00570191 -0.00566192]\n",
      " [-0.0007998  -0.0010409  -0.0011061  -0.00092375 -0.00079655]\n",
      " [-0.00032633 -0.00034514 -0.00041246 -0.00026068 -0.0003989 ]\n",
      " ...\n",
      " [-0.00866793 -0.00823638 -0.00911581 -0.00859423 -0.00981063]\n",
      " [-0.00119272 -0.00130126 -0.00103613 -0.00121082 -0.00110012]\n",
      " [-0.02806372 -0.03015728 -0.02990418 -0.02767845 -0.02963487]]\n",
      "grad_movie: [[-4.04896780e-03 -4.01678866e-03 -4.30406079e-03 -4.46034678e-03\n",
      "  -4.04664906e-03]\n",
      " [-1.10675347e-03 -1.33531774e-03 -1.14298145e-03 -1.31365357e-03\n",
      "  -1.25228819e-03]\n",
      " [-2.62299899e-03 -2.79006386e-03 -2.69431155e-03 -2.93035665e-03\n",
      "  -2.78203238e-03]\n",
      " ...\n",
      " [-2.47559405e-05 -9.46601622e-06 -1.11379573e-05 -3.63130922e-05\n",
      "  -5.73322568e-06]\n",
      " [-2.91318207e-05 -1.11392369e-05 -1.31067117e-05 -4.27318239e-05\n",
      "  -6.74663531e-06]\n",
      " [-3.36738874e-05 -1.28760030e-05 -1.51502352e-05 -4.93943253e-05\n",
      "  -7.79853207e-06]]\n"
     ]
    }
   ],
   "source": [
    "Y = df2matrix(df, emb_user.shape[0], emb_movie.shape[0])\n",
    "grad_user, grad_movie = gradient(df, Y, emb_user, emb_movie)\n",
    "print(f'grad_user: {grad_user}')\n",
    "print(f'grad_movie: {grad_movie}')"
   ]
  },
  {
   "cell_type": "code",
   "execution_count": 16,
   "id": "78e7fde7",
   "metadata": {},
   "outputs": [],
   "source": [
    "def gradient_descent(df, emb_user, emb_movie, iterations=100, learning_rate=0.01, df_val=None):\n",
    "    \"\"\" \n",
    "    Computes gradient descent with momentum (0.9) for a number of iterations.\n",
    "    Prints training cost and validation cost (if df_val is not None) every 100 iterations.\n",
    "    \n",
    "    Returns:\n",
    "    emb_user: the trained user embedding\n",
    "    emb_movie: the trained movie embedding\n",
    "    \"\"\"\n",
    "    Y = df2matrix(df, emb_user.shape[0], emb_movie.shape[0])\n",
    "    v1 = 0\n",
    "    v2 = 0\n",
    "    for i in range(iterations):\n",
    "        grad_user, grad_movie = gradient(df, Y, emb_user, emb_movie)\n",
    "        v1 = 0.9*v1 + 0.1*grad_user\n",
    "        v2 = 0.9*v2 + 0.1*grad_movie\n",
    "        emb_user = emb_user - learning_rate*v1\n",
    "        emb_movie = emb_movie - learning_rate*v2\n",
    "        if (i+1)%100==0:\n",
    "            mse = cost(df, emb_user, emb_movie)\n",
    "            print(f'mse:{mse}')\n",
    "    return emb_user, emb_movie"
   ]
  },
  {
   "cell_type": "code",
   "execution_count": 17,
   "id": "629a521a",
   "metadata": {},
   "outputs": [
    {
     "name": "stdout",
     "output_type": "stream",
     "text": [
      "mse:4.345217977254249\n",
      "mse:4.242467402101515\n",
      "mse:4.146954416082002\n",
      "mse:4.057768588243036\n",
      "mse:3.974142310904746\n",
      "mse:3.8954269508507693\n",
      "mse:3.8210729033954185\n",
      "mse:3.750613090310903\n",
      "mse:3.683649297284778\n",
      "mse:3.6198408543454956\n"
     ]
    }
   ],
   "source": [
    "final_emb_user, final_emb_movie = gradient_descent(df, emb_user, emb_movie, iterations=1000, learning_rate=0.01)"
   ]
  },
  {
   "cell_type": "markdown",
   "id": "518beb72",
   "metadata": {},
   "source": [
    "# Predict UserId 0 's rating for MovieId 3"
   ]
  },
  {
   "cell_type": "code",
   "execution_count": 18,
   "id": "bb0ce486",
   "metadata": {},
   "outputs": [
    {
     "data": {
      "text/plain": [
       "1.8111835374887322"
      ]
     },
     "execution_count": 18,
     "metadata": {},
     "output_type": "execute_result"
    }
   ],
   "source": [
    "final_emb_user[0].dot(final_emb_movie[3])"
   ]
  }
 ],
 "metadata": {
  "kernelspec": {
   "display_name": "Python 3",
   "language": "python",
   "name": "python3"
  },
  "language_info": {
   "codemirror_mode": {
    "name": "ipython",
    "version": 3
   },
   "file_extension": ".py",
   "mimetype": "text/x-python",
   "name": "python",
   "nbconvert_exporter": "python",
   "pygments_lexer": "ipython3",
   "version": "3.8.8"
  }
 },
 "nbformat": 4,
 "nbformat_minor": 5
}
