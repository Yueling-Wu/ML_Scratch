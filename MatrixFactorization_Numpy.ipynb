{
 "cells": [
  {
   "cell_type": "code",
   "execution_count": 1,
   "id": "aadc6208",
   "metadata": {},
   "outputs": [],
   "source": [
    "import numpy as np\n",
    "import pandas as pd\n",
    "from scipy import sparse"
   ]
  },
  {
   "cell_type": "markdown",
   "id": "f0128d23",
   "metadata": {},
   "source": [
    "# Sample Data"
   ]
  },
  {
   "cell_type": "code",
   "execution_count": 2,
   "id": "b7130c01",
   "metadata": {},
   "outputs": [
    {
     "data": {
      "text/html": [
       "<div>\n",
       "<style scoped>\n",
       "    .dataframe tbody tr th:only-of-type {\n",
       "        vertical-align: middle;\n",
       "    }\n",
       "\n",
       "    .dataframe tbody tr th {\n",
       "        vertical-align: top;\n",
       "    }\n",
       "\n",
       "    .dataframe thead th {\n",
       "        text-align: right;\n",
       "    }\n",
       "</style>\n",
       "<table border=\"1\" class=\"dataframe\">\n",
       "  <thead>\n",
       "    <tr style=\"text-align: right;\">\n",
       "      <th></th>\n",
       "      <th>userId</th>\n",
       "      <th>movieId</th>\n",
       "      <th>rating</th>\n",
       "    </tr>\n",
       "  </thead>\n",
       "  <tbody>\n",
       "    <tr>\n",
       "      <th>0</th>\n",
       "      <td>11</td>\n",
       "      <td>1</td>\n",
       "      <td>4</td>\n",
       "    </tr>\n",
       "    <tr>\n",
       "      <th>1</th>\n",
       "      <td>11</td>\n",
       "      <td>23</td>\n",
       "      <td>5</td>\n",
       "    </tr>\n",
       "    <tr>\n",
       "      <th>2</th>\n",
       "      <td>2</td>\n",
       "      <td>23</td>\n",
       "      <td>5</td>\n",
       "    </tr>\n",
       "    <tr>\n",
       "      <th>3</th>\n",
       "      <td>2</td>\n",
       "      <td>4</td>\n",
       "      <td>3</td>\n",
       "    </tr>\n",
       "    <tr>\n",
       "      <th>4</th>\n",
       "      <td>31</td>\n",
       "      <td>1</td>\n",
       "      <td>4</td>\n",
       "    </tr>\n",
       "    <tr>\n",
       "      <th>5</th>\n",
       "      <td>31</td>\n",
       "      <td>23</td>\n",
       "      <td>4</td>\n",
       "    </tr>\n",
       "    <tr>\n",
       "      <th>6</th>\n",
       "      <td>4</td>\n",
       "      <td>1</td>\n",
       "      <td>5</td>\n",
       "    </tr>\n",
       "    <tr>\n",
       "      <th>7</th>\n",
       "      <td>4</td>\n",
       "      <td>3</td>\n",
       "      <td>2</td>\n",
       "    </tr>\n",
       "    <tr>\n",
       "      <th>8</th>\n",
       "      <td>52</td>\n",
       "      <td>1</td>\n",
       "      <td>1</td>\n",
       "    </tr>\n",
       "    <tr>\n",
       "      <th>9</th>\n",
       "      <td>52</td>\n",
       "      <td>3</td>\n",
       "      <td>4</td>\n",
       "    </tr>\n",
       "    <tr>\n",
       "      <th>10</th>\n",
       "      <td>61</td>\n",
       "      <td>3</td>\n",
       "      <td>5</td>\n",
       "    </tr>\n",
       "    <tr>\n",
       "      <th>11</th>\n",
       "      <td>7</td>\n",
       "      <td>23</td>\n",
       "      <td>1</td>\n",
       "    </tr>\n",
       "    <tr>\n",
       "      <th>12</th>\n",
       "      <td>7</td>\n",
       "      <td>3</td>\n",
       "      <td>3</td>\n",
       "    </tr>\n",
       "  </tbody>\n",
       "</table>\n",
       "</div>"
      ],
      "text/plain": [
       "    userId  movieId  rating\n",
       "0       11        1       4\n",
       "1       11       23       5\n",
       "2        2       23       5\n",
       "3        2        4       3\n",
       "4       31        1       4\n",
       "5       31       23       4\n",
       "6        4        1       5\n",
       "7        4        3       2\n",
       "8       52        1       1\n",
       "9       52        3       4\n",
       "10      61        3       5\n",
       "11       7       23       1\n",
       "12       7        3       3"
      ]
     },
     "execution_count": 2,
     "metadata": {},
     "output_type": "execute_result"
    }
   ],
   "source": [
    "df = pd.read_csv(\"data/tiny_training.csv\")\n",
    "df"
   ]
  },
  {
   "cell_type": "markdown",
   "id": "12462ceb",
   "metadata": {},
   "source": [
    "# Encode Data"
   ]
  },
  {
   "cell_type": "code",
   "execution_count": 3,
   "id": "de8df846",
   "metadata": {},
   "outputs": [],
   "source": [
    "def proc_col(col):\n",
    "    \"\"\"\n",
    "    Encodes a pandas column with values between 0 and n-1.\n",
    "    where n = number of unique values\n",
    "    \"\"\"\n",
    "    uniq = col.unique()\n",
    "    name2idx = {o:i for i,o in enumerate(uniq)}\n",
    "    return name2idx, np.array([name2idx[x] for x in col]), len(uniq)"
   ]
  },
  {
   "cell_type": "code",
   "execution_count": 4,
   "id": "fd58a55e",
   "metadata": {},
   "outputs": [],
   "source": [
    "def encode_data(train_csv):\n",
    "    \"\"\"\n",
    "    Encodes rating data with continous user and movie ids using \n",
    "    the helpful fast.ai function from above.\n",
    "    \n",
    "    Inputs:\n",
    "      train_csv: a csv file with columns user_id,movie_id,rating \n",
    "    \n",
    "    Returns:\n",
    "      df: a dataframe with the encode data\n",
    "      num_users\n",
    "      num_movies    \n",
    "    \"\"\"\n",
    "    num_users = proc_col(df.userId)[2]\n",
    "    num_movies = proc_col(df.movieId)[2]\n",
    "\n",
    "    df[\"userId\"] = proc_col(df.userId)[1]\n",
    "    df[\"movieId\"] = proc_col(df.movieId)[1]\n",
    "    return df, num_users, num_movies"
   ]
  },
  {
   "cell_type": "code",
   "execution_count": 5,
   "id": "3f658577",
   "metadata": {},
   "outputs": [
    {
     "name": "stdout",
     "output_type": "stream",
     "text": [
      "num_users : 7\n",
      "num_movies : 4\n"
     ]
    },
    {
     "data": {
      "text/html": [
       "<div>\n",
       "<style scoped>\n",
       "    .dataframe tbody tr th:only-of-type {\n",
       "        vertical-align: middle;\n",
       "    }\n",
       "\n",
       "    .dataframe tbody tr th {\n",
       "        vertical-align: top;\n",
       "    }\n",
       "\n",
       "    .dataframe thead th {\n",
       "        text-align: right;\n",
       "    }\n",
       "</style>\n",
       "<table border=\"1\" class=\"dataframe\">\n",
       "  <thead>\n",
       "    <tr style=\"text-align: right;\">\n",
       "      <th></th>\n",
       "      <th>userId</th>\n",
       "      <th>movieId</th>\n",
       "      <th>rating</th>\n",
       "    </tr>\n",
       "  </thead>\n",
       "  <tbody>\n",
       "    <tr>\n",
       "      <th>0</th>\n",
       "      <td>0</td>\n",
       "      <td>0</td>\n",
       "      <td>4</td>\n",
       "    </tr>\n",
       "    <tr>\n",
       "      <th>1</th>\n",
       "      <td>0</td>\n",
       "      <td>1</td>\n",
       "      <td>5</td>\n",
       "    </tr>\n",
       "    <tr>\n",
       "      <th>2</th>\n",
       "      <td>1</td>\n",
       "      <td>1</td>\n",
       "      <td>5</td>\n",
       "    </tr>\n",
       "    <tr>\n",
       "      <th>3</th>\n",
       "      <td>1</td>\n",
       "      <td>2</td>\n",
       "      <td>3</td>\n",
       "    </tr>\n",
       "    <tr>\n",
       "      <th>4</th>\n",
       "      <td>2</td>\n",
       "      <td>0</td>\n",
       "      <td>4</td>\n",
       "    </tr>\n",
       "    <tr>\n",
       "      <th>5</th>\n",
       "      <td>2</td>\n",
       "      <td>1</td>\n",
       "      <td>4</td>\n",
       "    </tr>\n",
       "    <tr>\n",
       "      <th>6</th>\n",
       "      <td>3</td>\n",
       "      <td>0</td>\n",
       "      <td>5</td>\n",
       "    </tr>\n",
       "    <tr>\n",
       "      <th>7</th>\n",
       "      <td>3</td>\n",
       "      <td>3</td>\n",
       "      <td>2</td>\n",
       "    </tr>\n",
       "    <tr>\n",
       "      <th>8</th>\n",
       "      <td>4</td>\n",
       "      <td>0</td>\n",
       "      <td>1</td>\n",
       "    </tr>\n",
       "    <tr>\n",
       "      <th>9</th>\n",
       "      <td>4</td>\n",
       "      <td>3</td>\n",
       "      <td>4</td>\n",
       "    </tr>\n",
       "    <tr>\n",
       "      <th>10</th>\n",
       "      <td>5</td>\n",
       "      <td>3</td>\n",
       "      <td>5</td>\n",
       "    </tr>\n",
       "    <tr>\n",
       "      <th>11</th>\n",
       "      <td>6</td>\n",
       "      <td>1</td>\n",
       "      <td>1</td>\n",
       "    </tr>\n",
       "    <tr>\n",
       "      <th>12</th>\n",
       "      <td>6</td>\n",
       "      <td>3</td>\n",
       "      <td>3</td>\n",
       "    </tr>\n",
       "  </tbody>\n",
       "</table>\n",
       "</div>"
      ],
      "text/plain": [
       "    userId  movieId  rating\n",
       "0        0        0       4\n",
       "1        0        1       5\n",
       "2        1        1       5\n",
       "3        1        2       3\n",
       "4        2        0       4\n",
       "5        2        1       4\n",
       "6        3        0       5\n",
       "7        3        3       2\n",
       "8        4        0       1\n",
       "9        4        3       4\n",
       "10       5        3       5\n",
       "11       6        1       1\n",
       "12       6        3       3"
      ]
     },
     "execution_count": 5,
     "metadata": {},
     "output_type": "execute_result"
    }
   ],
   "source": [
    "df, num_users, num_movies = encode_data(df)\n",
    "print(f'num_users : {num_users}')\n",
    "print(f'num_movies : {num_movies}')\n",
    "df"
   ]
  },
  {
   "cell_type": "code",
   "execution_count": 6,
   "id": "1a760581",
   "metadata": {},
   "outputs": [],
   "source": [
    "def encode_valid(df_val, df_train):\n",
    "    \"\"\" \n",
    "    Encodes df_val with the same encoding as df_train.\n",
    "    \n",
    "    Returns:\n",
    "    df_val: dataframe with the same encoding as df_train\n",
    "    \"\"\"\n",
    "    name2idx_user = proc_col(df_train.userId)[0]\n",
    "    name2idx_movie = proc_col(df_train.movieId)[0]\n",
    "\n",
    "    df_val[\"userId\"] = np.array([name2idx_user.get(x,-1) for x in df_val.userId])\n",
    "    df_val[\"movieId\"] = np.array([name2idx_movie.get(x,-1) for x in df_val.movieId])\n",
    "    df_val = df_val[df_val.userId!=-1][df_val.movieId!=-1]\n",
    "    return df_val"
   ]
  },
  {
   "cell_type": "markdown",
   "id": "27479102",
   "metadata": {},
   "source": [
    "# Create Embeddings"
   ]
  },
  {
   "cell_type": "code",
   "execution_count": 7,
   "id": "d73e65fa",
   "metadata": {},
   "outputs": [],
   "source": [
    "def create_embedings(n, K):\n",
    "    \"\"\" \n",
    "    Create a numpy random matrix of shape n, K\n",
    "    The random matrix is initialized with uniform values in (0, 6/K)\n",
    "    \n",
    "    Inputs:\n",
    "    n: number of items/users\n",
    "    K: number of factors in the embeding \n",
    "    \n",
    "    Returns:\n",
    "    emb: numpy array of shape (n, num_factors)\n",
    "    \"\"\"\n",
    "    np.random.seed(3)\n",
    "    emb = 6*np.random.random((n, K)) / K\n",
    "    return emb"
   ]
  },
  {
   "cell_type": "code",
   "execution_count": 8,
   "id": "b0ea8c58",
   "metadata": {},
   "outputs": [
    {
     "name": "stdout",
     "output_type": "stream",
     "text": [
      "[[0.66095748 0.84977739 0.34908569 0.61299313 1.07153635]\n",
      " [1.07555171 0.15070237 0.24869145 0.06176064 0.52897181]\n",
      " [0.03585145 0.54819987 0.77897286 0.33418474 0.81150588]\n",
      " [0.70903538 0.02877826 0.67062491 0.31110294 0.49812144]\n",
      " [0.3402301  0.8317655  0.52854446 0.18824129 0.65357882]\n",
      " [0.93637772 0.36763624 0.26634946 0.46556551 1.12366038]\n",
      " [1.17119451 0.80686041 1.08340093 1.01490105 0.45359285]]\n"
     ]
    }
   ],
   "source": [
    "K = 5\n",
    "emb_user = create_embedings(num_users,K)\n",
    "emb_movie = create_embedings(num_movies,K)\n",
    "print(emb_user)"
   ]
  },
  {
   "cell_type": "markdown",
   "id": "e75a72ea",
   "metadata": {},
   "source": [
    "# Utility Matrix"
   ]
  },
  {
   "cell_type": "code",
   "execution_count": 9,
   "id": "a550588e",
   "metadata": {},
   "outputs": [],
   "source": [
    "def df2matrix(df, nrows, ncols, column_name=\"rating\"):\n",
    "    \"\"\" \n",
    "    Returns a sparse matrix constructed from a dataframe\n",
    "    This code assumes the df has columns: MovieID,UserID,Rating\n",
    "    \"\"\"\n",
    "    values = df[column_name].values\n",
    "    ind_movie = df['movieId'].values\n",
    "    ind_user = df['userId'].values\n",
    "    return sparse.csc_matrix((values,(ind_user, ind_movie)),shape=(nrows, ncols))"
   ]
  },
  {
   "cell_type": "code",
   "execution_count": 10,
   "id": "9e652bb3",
   "metadata": {},
   "outputs": [
    {
     "name": "stdout",
     "output_type": "stream",
     "text": [
      "  (0, 0)\t4\n",
      "  (2, 0)\t4\n",
      "  (3, 0)\t5\n",
      "  (4, 0)\t1\n",
      "  (0, 1)\t5\n",
      "  (1, 1)\t5\n",
      "  (2, 1)\t4\n",
      "  (6, 1)\t1\n",
      "  (1, 2)\t3\n",
      "  (3, 3)\t2\n",
      "  (4, 3)\t4\n",
      "  (5, 3)\t5\n",
      "  (6, 3)\t3\n"
     ]
    }
   ],
   "source": [
    "Y = df2matrix(df, num_users, num_movies)\n",
    "print(Y) #<7x4 sparse matrix of type with 13 elements>"
   ]
  },
  {
   "cell_type": "markdown",
   "id": "49589a39",
   "metadata": {},
   "source": [
    "# Loss Function MSE"
   ]
  },
  {
   "cell_type": "code",
   "execution_count": 11,
   "id": "3517bb7c",
   "metadata": {},
   "outputs": [],
   "source": [
    "def cost(df, emb_user, emb_movie):\n",
    "    \"\"\" \n",
    "    Computes mean square error\n",
    "    \n",
    "    First compute prediction. Prediction for user i and movie j is emb_user[i]*emb_movie[j]\n",
    "    \n",
    "    Inputs:\n",
    "      df: dataframe with all data or a subset of the data\n",
    "      emb_user: embedings for users\n",
    "      emb_movie: embedings for movies\n",
    "      \n",
    "    Returns:\n",
    "      error(float): MSE\n",
    "    \"\"\"\n",
    "    pred = np.sum(emb_user[df[\"userId\"].values]*emb_movie[df[\"movieId\"].values], axis=1)\n",
    "    error = ((df['rating'] - pred)**2).mean()\n",
    "    return error"
   ]
  },
  {
   "cell_type": "code",
   "execution_count": 12,
   "id": "dbcdc0f4",
   "metadata": {},
   "outputs": [
    {
     "data": {
      "text/plain": [
       "6.318975545037869"
      ]
     },
     "execution_count": 12,
     "metadata": {},
     "output_type": "execute_result"
    }
   ],
   "source": [
    "error = cost(df, emb_user, emb_movie)\n",
    "error"
   ]
  },
  {
   "cell_type": "markdown",
   "id": "e65016d9",
   "metadata": {},
   "source": [
    "# Gradient descent with momentum"
   ]
  },
  {
   "cell_type": "code",
   "execution_count": 13,
   "id": "f0a0a2df",
   "metadata": {},
   "outputs": [],
   "source": [
    "def sparse_multiply(df, emb_user, emb_movie):\n",
    "    \"\"\" \n",
    "    This function returns U*V^T element wise multi by R as a sparse matrix.\n",
    "    It avoids creating the dense matrix U*V^T\n",
    "    \"\"\"\n",
    "    \n",
    "    df[\"Prediction\"] = np.sum(emb_user[df[\"userId\"].values]*emb_movie[df[\"movieId\"].values], axis=1)\n",
    "    return df2matrix(df, emb_user.shape[0], emb_movie.shape[0], column_name=\"Prediction\")\n",
    "\n",
    "\n",
    "def gradient(df, Y, emb_user, emb_movie):\n",
    "    \"\"\" \n",
    "    Computes the gradient.\n",
    "\n",
    "    First compute prediction. Prediction for user i and movie j is emb_user[i]*emb_movie[j]\n",
    "    \n",
    "    Inputs:\n",
    "      df: dataframe with all data or a subset of the data\n",
    "      Y: sparse representation of df\n",
    "      emb_user: embedings for users\n",
    "      emb_movie: embedings for movies\n",
    "      \n",
    "    Returns:\n",
    "      d_emb_user\n",
    "      d_emb_movie\n",
    "    \"\"\"\n",
    "    val_one = np.ones(df['rating'].values.shape)\n",
    "    ind_movie = df['movieId'].values\n",
    "    ind_user = df['userId'].values\n",
    "    R = sparse.csc_matrix((val_one,(ind_user, ind_movie)),shape=(emb_user.shape[0], emb_movie.shape[0]))    \n",
    "    \n",
    "    N = Y.size\n",
    "    Y_pred=sparse_multiply(df, emb_user, emb_movie)\n",
    "\n",
    "    grad_user = -(2/N)*((Y-Y_pred).multiply(R).dot(emb_movie))\n",
    "    grad_movie = -(2/N)*(((Y-Y_pred).multiply(R).T).dot(emb_user))\n",
    "    return grad_user, grad_movie"
   ]
  },
  {
   "cell_type": "code",
   "execution_count": 14,
   "id": "bb57d37e",
   "metadata": {},
   "outputs": [
    {
     "name": "stdout",
     "output_type": "stream",
     "text": [
      "grad_user: [[-0.69564081 -0.23669632 -0.19693492 -0.14568195 -0.47938463]\n",
      " [-0.58733568 -0.26908101 -0.40082497 -0.14793654 -0.56185469]\n",
      " [-0.75538639 -0.35793374 -0.24000433 -0.23483023 -0.6200397 ]\n",
      " [-0.43736869 -0.46699903 -0.26297135 -0.36822101 -0.63873094]\n",
      " [-0.23207446  0.10856947 -0.25908272 -0.05551977 -0.07598536]\n",
      " [-0.37549602 -0.0152406  -0.35515433 -0.16475612 -0.26379871]\n",
      " [ 0.06195886  0.01821505 -0.05412412 -0.03297054  0.01028791]]\n",
      "grad_movie: [[-0.47175274 -0.23523022 -0.61385481 -0.36682109 -0.64543274]\n",
      " [-0.77388169 -0.68867308 -0.54810338 -0.37770056 -1.19213767]\n",
      " [-0.36985705 -0.05182302 -0.08551917 -0.02123804 -0.18190102]\n",
      " [-0.88750327 -0.69021782 -0.60346291 -0.50402758 -1.01141043]]\n"
     ]
    }
   ],
   "source": [
    "Y = df2matrix(df, emb_user.shape[0], emb_movie.shape[0])\n",
    "grad_user, grad_movie = gradient(df, Y, emb_user, emb_movie)\n",
    "print(f'grad_user: {grad_user}')\n",
    "print(f'grad_movie: {grad_movie}')"
   ]
  },
  {
   "cell_type": "code",
   "execution_count": 15,
   "id": "78e7fde7",
   "metadata": {},
   "outputs": [],
   "source": [
    "def gradient_descent(df, emb_user, emb_movie, iterations=100, learning_rate=0.01, df_val=None):\n",
    "    \"\"\" \n",
    "    Computes gradient descent with momentum (0.9) for a number of iterations.\n",
    "    Prints training cost and validation cost (if df_val is not None) every 50 iterations.\n",
    "    \n",
    "    Returns:\n",
    "    emb_user: the trained user embedding\n",
    "    emb_movie: the trained movie embedding\n",
    "    \"\"\"\n",
    "    Y = df2matrix(df, emb_user.shape[0], emb_movie.shape[0])\n",
    "    v1 = 0\n",
    "    v2 = 0\n",
    "    for i in range(iterations):\n",
    "        grad_user, grad_movie = gradient(df, Y, emb_user, emb_movie)\n",
    "        v1 = 0.9*v1 + 0.1*grad_user\n",
    "        v2 = 0.9*v2 + 0.1*grad_movie\n",
    "        emb_user = emb_user - learning_rate*v1\n",
    "        emb_movie = emb_movie - learning_rate*v2\n",
    "        if (i+1)%50==0:\n",
    "            mse = cost(df, emb_user, emb_movie)\n",
    "            print(f'mse:{mse}')\n",
    "    return emb_user, emb_movie"
   ]
  },
  {
   "cell_type": "code",
   "execution_count": 16,
   "id": "629a521a",
   "metadata": {},
   "outputs": [
    {
     "name": "stdout",
     "output_type": "stream",
     "text": [
      "mse:2.7318752608990735\n",
      "mse:1.268898984379745\n",
      "mse:0.889579113290915\n",
      "mse:0.7676439996999788\n"
     ]
    }
   ],
   "source": [
    "final_emb_user, final_emb_movie = gradient_descent(df, emb_user, emb_movie, iterations=200, learning_rate=0.01)"
   ]
  },
  {
   "cell_type": "markdown",
   "id": "518beb72",
   "metadata": {},
   "source": [
    "# Predict UserId 0 's rating for MovieId 3"
   ]
  },
  {
   "cell_type": "code",
   "execution_count": 35,
   "id": "bb0ce486",
   "metadata": {},
   "outputs": [
    {
     "data": {
      "text/plain": [
       "4.297753720698854"
      ]
     },
     "execution_count": 35,
     "metadata": {},
     "output_type": "execute_result"
    }
   ],
   "source": [
    "final_emb_user[0].dot(final_emb_movie[3])"
   ]
  }
 ],
 "metadata": {
  "kernelspec": {
   "display_name": "Python 3",
   "language": "python",
   "name": "python3"
  },
  "language_info": {
   "codemirror_mode": {
    "name": "ipython",
    "version": 3
   },
   "file_extension": ".py",
   "mimetype": "text/x-python",
   "name": "python",
   "nbconvert_exporter": "python",
   "pygments_lexer": "ipython3",
   "version": "3.8.8"
  }
 },
 "nbformat": 4,
 "nbformat_minor": 5
}
